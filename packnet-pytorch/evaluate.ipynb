{
 "cells": [
  {
   "cell_type": "code",
   "execution_count": 5,
   "id": "5b034f47-03a8-4601-84dc-84225161b5cf",
   "metadata": {},
   "outputs": [
    {
     "name": "stdout",
     "output_type": "stream",
     "text": [
      "正在初始化模型结构...\n",
      "正在为模型重建所有任务的分类头...\n",
      "加载 cubs 数据集 (test): 5794 张图像, 200 个类别\n",
      "加载 cars 数据集 (test): 8000 张图像, 196 个类别\n",
      "加载 flowers 数据集 (test): 6149 张图像, 102 个类别\n",
      "正在加载模型权重和偏置...\n",
      "模型权重已从 checkpoints/packnet_model.pth 加载。\n",
      "正在加载掩码...\n",
      "掩码已从文件加载: checkpoints/packnet_masks.npy\n",
      "正在为任务 'cars' 准备测试数据...\n",
      "加载 cars 数据集 (test): 8000 张图像, 196 个类别\n",
      "模型已设置为评估 'cars' 任务，类别数: 196\n",
      "正在应用任务掩码和偏置...\n",
      "正在为任务 'cars' 恢复偏置...\n",
      "已应用任务索引 3 (CARS) 的掩码。\n",
      "\n",
      "开始评估...\n",
      "\n",
      "==============================\n",
      "任务 'CARS' 的最终准确率: 83.39%\n",
      "==============================\n"
     ]
    }
   ],
   "source": [
    "!python evaluate.py"
   ]
  },
  {
   "cell_type": "code",
   "execution_count": 6,
   "id": "93609ae2-eb2f-4812-97ff-b9f75ecfb078",
   "metadata": {},
   "outputs": [
    {
     "name": "stdout",
     "output_type": "stream",
     "text": [
      "正在初始化模型结构...\n",
      "正在为模型重建所有任务的分类头...\n",
      "加载 cubs 数据集 (test): 5794 张图像, 200 个类别\n",
      "加载 cars 数据集 (test): 8000 张图像, 196 个类别\n",
      "加载 flowers 数据集 (test): 6149 张图像, 102 个类别\n",
      "正在加载模型权重和偏置...\n",
      "模型权重已从 checkpoints/packnet_model.pth 加载。\n",
      "正在加载掩码...\n",
      "掩码已从文件加载: checkpoints/packnet_masks.npy\n",
      "正在为任务 'cubs' 准备测试数据...\n",
      "加载 cubs 数据集 (test): 5794 张图像, 200 个类别\n",
      "模型已设置为评估 'cubs' 任务，类别数: 200\n",
      "正在应用任务掩码和偏置...\n",
      "正在为任务 'cubs' 恢复偏置...\n",
      "已应用任务索引 2 (CUBS) 的掩码。\n",
      "\n",
      "开始评估...\n",
      "\n",
      "==============================\n",
      "任务 'CUBS' 的最终准确率: 75.94%\n",
      "==============================\n"
     ]
    }
   ],
   "source": [
    "!python evaluate.py"
   ]
  },
  {
   "cell_type": "code",
   "execution_count": 7,
   "id": "100bf1d8-3c31-4763-b170-90934f4878d9",
   "metadata": {},
   "outputs": [
    {
     "name": "stdout",
     "output_type": "stream",
     "text": [
      "正在初始化模型结构...\n",
      "正在为模型重建所有任务的分类头...\n",
      "加载 cubs 数据集 (test): 5794 张图像, 200 个类别\n",
      "加载 cars 数据集 (test): 8000 张图像, 196 个类别\n",
      "加载 flowers 数据集 (test): 6149 张图像, 102 个类别\n",
      "正在加载模型权重和偏置...\n",
      "模型权重已从 checkpoints/packnet_model.pth 加载。\n",
      "正在加载掩码...\n",
      "掩码已从文件加载: checkpoints/packnet_masks.npy\n",
      "正在为任务 'flowers' 准备测试数据...\n",
      "加载 flowers 数据集 (test): 6149 张图像, 102 个类别\n",
      "模型已设置为评估 'flowers' 任务，类别数: 102\n",
      "正在应用任务掩码和偏置...\n",
      "正在为任务 'flowers' 恢复偏置...\n",
      "已应用任务索引 4 (FLOWERS) 的掩码。\n",
      "\n",
      "开始评估...\n",
      "\n",
      "==============================\n",
      "任务 'FLOWERS' 的最终准确率: 87.43%\n",
      "==============================\n"
     ]
    }
   ],
   "source": [
    "!python evaluate.py"
   ]
  },
  {
   "cell_type": "code",
   "execution_count": null,
   "id": "a03ff35a-28a3-4370-9820-dc6f95e29b66",
   "metadata": {},
   "outputs": [],
   "source": []
  }
 ],
 "metadata": {
  "kernelspec": {
   "display_name": "Python 3 (ipykernel)",
   "language": "python",
   "name": "python3"
  },
  "language_info": {
   "codemirror_mode": {
    "name": "ipython",
    "version": 3
   },
   "file_extension": ".py",
   "mimetype": "text/x-python",
   "name": "python",
   "nbconvert_exporter": "python",
   "pygments_lexer": "ipython3",
   "version": "3.10.14"
  }
 },
 "nbformat": 4,
 "nbformat_minor": 5
}
